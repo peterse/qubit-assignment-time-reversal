{
 "cells": [
  {
   "cell_type": "markdown",
   "metadata": {},
   "source": [
    "### WARNING...\n",
    "\n",
    "To get access to `scipy.stats.bootstrap`, this notebook is in `Python3.8`, but `cirq==0.11.1` which doesn't match the standard package version for python3.8"
   ]
  },
  {
   "cell_type": "code",
   "execution_count": 1,
   "metadata": {},
   "outputs": [],
   "source": [
    "%load_ext autoreload\n",
    "%autoreload 2"
   ]
  },
  {
   "cell_type": "code",
   "execution_count": 2,
   "metadata": {},
   "outputs": [],
   "source": [
    "import numpy as np\n",
    "import matplotlib.pyplot as plt\n",
    "import networkx as nx\n",
    "import scipy.stats\n",
    "\n",
    "from qbitmap import simulated_annealer\n",
    "from qbitmap import utils\n",
    "from qbitmap import postprocess\n",
    "from qbitmap import io\n",
    "from scipy.stats import kendalltau\n",
    "from qbitmap.metrics import bootstrap_metric\n",
    "from collections import Counter\n"
   ]
  },
  {
   "cell_type": "code",
   "execution_count": 3,
   "metadata": {},
   "outputs": [
    {
     "name": "stdout",
     "output_type": "stream",
     "text": [
      "rejected 308 events for qmax>0.15\n"
     ]
    }
   ],
   "source": [
    "DATESTR = \"20210620\"\n",
    "results_raw = np.load(f\"results/hw_{DATESTR}_ghz_line_results_raw.npy\")\n",
    "results_corr = np.load(f\"results/hw_{DATESTR}_ghz_line_results_corr.npy\")\n",
    "paths = np.load(f\"results/hw_{DATESTR}_ghz_line_paths.npy\")\n",
    "\n",
    "# filter out bitflips that are unrealistically large (i.e. would result in ill-conditioned outcomes)\n",
    "idx = np.arange(len(paths))\n",
    "\n",
    "BF_REJECTION = 0.15\n",
    "qvals = postprocess.load_qvals_arr(\"1624192689299\", 1116, path='./readout_ec')\n",
    "idx = postprocess.accept_by_bitflip(threshold=BF_REJECTION, qvals_arr=qvals)\n",
    "\n",
    "# replace rejected states with null values so that the annealer knows to avoid them\n",
    "\n",
    "# With the bad results nullified its not necessary to trim the paths.\n",
    "# This will allow SA to still query any state for a fidelity,\n",
    "# But it will \"reroute\" when the queried state is has fidelity `None`\n",
    "results = results_corr[idx,:]\n",
    "all_paths = paths[idx]\n"
   ]
  },
  {
   "cell_type": "code",
   "execution_count": 4,
   "metadata": {},
   "outputs": [
    {
     "name": "stdout",
     "output_type": "stream",
     "text": [
      "FLE: KendalltauResult(correlation=0.5462046204620462, pvalue=1.8490371713272653e-119)\n",
      "F0 KendalltauResult(correlation=0.12484817254959696, pvalue=1.0856465760449625e-07)\n"
     ]
    }
   ],
   "source": [
    "FLE = results[:,0].flatten()\n",
    "F0 = results[:,2].flatten()\n",
    "F = results[:,1].flatten()\n",
    "\n",
    "print(\"FLE:\", scipy.stats.kendalltau(FLE, F))\n",
    "print(\"F0\", scipy.stats.kendalltau(F0, F))"
   ]
  },
  {
   "cell_type": "code",
   "execution_count": 5,
   "metadata": {},
   "outputs": [],
   "source": [
    "parr = np.linspace(75, 95, 21)\n",
    "\n",
    "x1 = np.asarray([postprocess.Y_gt_y_X_gt_X_conditional(FLE, F, percentile) for percentile in parr])\n",
    "x1_err = np.asarray([\n",
    "    np.std(bootstrap_metric(postprocess.Y_gt_y_X_gt_X_conditional, FLE, F, percentile, ntrials=200))\n",
    "        for percentile in parr\n",
    "])\n",
    "\n",
    "\n",
    "x3 = np.asarray([postprocess.Y_gt_y_X_gt_X_conditional(F0, F, percentile) for percentile in parr])\n",
    "x3_err = np.asarray([\n",
    "    np.std(bootstrap_metric(postprocess.Y_gt_y_X_gt_X_conditional, F0, F, percentile, ntrials=200))\n",
    "        for percentile in parr\n",
    "])\n",
    "\n",
    "\n",
    "x4 = 1 - parr/100\n"
   ]
  },
  {
   "cell_type": "code",
   "execution_count": 7,
   "metadata": {},
   "outputs": [
    {
     "name": "stdout",
     "output_type": "stream",
     "text": [
      "0\n",
      "100\n",
      "200\n",
      "300\n",
      "400\n",
      "500\n",
      "600\n",
      "700\n",
      "800\n"
     ]
    }
   ],
   "source": [
    "# Analyze difference in FLE for every pair of nearby states\n",
    "G = nx.Graph()\n",
    "n_qubits = 4\n",
    "for i, path_i in enumerate(all_paths):\n",
    "    if (i % 100) == 0:\n",
    "        print(i)\n",
    "    F_LE, F, F0 = results[i]\n",
    "    G.add_node(i, F_LE=F_LE, F=F)\n",
    "    q_i =  set(tuple(map(tuple, path_i)))\n",
    "\n",
    "    # Track the edges used, agnostic to ordering\n",
    "    edges_i = [(tuple(path_i[k]), tuple(path_i[k+1])) for k in range(n_qubits - 1)]\n",
    "    \n",
    "    edges_i += [(t[1], t[0]) for t in edges_i]\n",
    "    for j, path_j in enumerate(all_paths):\n",
    "        if j <= i:\n",
    "            continue\n",
    "        q_j =  set(tuple(map(tuple, path_j)))\n",
    "        edges_j = [(tuple(path_j[k]), tuple(path_j[k+1])) for k in range(n_qubits - 1)]\n",
    "        edges_j += [(t[1], t[0]) for t in edges_j]\n",
    "        \n",
    "        # Number of shared qubits\n",
    "        w_ij = len(q_i.intersection(q_j))\n",
    "        # Number of shared edges\n",
    "        ee_ij = len(set(edges_i).intersection(set(edges_j))) // 2\n",
    "        \n",
    "        G.add_edge(i, j, shared_edges=ee_ij, shared_nodes=w_ij)"
   ]
  },
  {
   "cell_type": "code",
   "execution_count": 8,
   "metadata": {},
   "outputs": [],
   "source": [
    "FLE_by_weight = {} # weight=0, 1, 2, 3, 4 - 4 since i did actually run forwards and  backwards variations...\n",
    "F_by_weight = {}\n",
    "for (i, j, data) in G.edges(data=True):\n",
    "    delta_FLE = G.nodes[i]['F_LE'] - G.nodes[j]['F_LE']   \n",
    "    delta_F = G.nodes[i]['F'] - G.nodes[j]['F']\n",
    "    (ns, es) = (data['shared_nodes'], data['shared_edges'])\n",
    "    if not FLE_by_weight.get((ns, es)):\n",
    "        FLE_by_weight[(ns, es)] = []\n",
    "    if not F_by_weight.get((ns, es)):\n",
    "        F_by_weight[(ns, es)] = []   \n",
    "        \n",
    "    FLE_by_weight[(ns, es)].append(delta_FLE)\n",
    "    F_by_weight[(ns, es)].append(delta_F)\n",
    "\n",
    "    \n",
    "FLE_by_weight = {k: np.asarray(x) for (k, x) in FLE_by_weight.items()}\n",
    "F_by_weight = {k: np.asarray(x) for (k, x) in F_by_weight.items()}"
   ]
  },
  {
   "cell_type": "code",
   "execution_count": 10,
   "metadata": {},
   "outputs": [
    {
     "name": "stdout",
     "output_type": "stream",
     "text": [
      "PROJECT ID: fermilab-quantum\n",
      "PROCESSOR:  >>> weber <<<\n",
      "GATESET:    <cirq_google.serializable_gate_set.SerializableGateSet object at 0x7f28654890d0>\n",
      "TIMESTAMP: 1624192689299\n"
     ]
    }
   ],
   "source": [
    "# Don't overwrite any of the analysis using a different processor...!\n",
    "from qbitmap import hw\n",
    "from qbitmap import calibration_data\n",
    "assert hw.PROCESSOR_ID == \"weber\"\n",
    "\n",
    "TIMESTAMP = 1624192689299\n",
    "target_calibration = hw.PROCESSOR.get_calibration(TIMESTAMP // 1000) # UGHHHHH\n",
    "print(\"TIMESTAMP:\", TIMESTAMP)\n",
    "\n",
    "# Target specifically these metrics\n",
    "metric_1q = \"single_qubit_rb_average_error_per_gate\"\n",
    "metric_2q = \"two_qubit_sqrt_iswap_gate_xeb_average_error_per_cycle\"\n",
    "calibration = calibration_data.CalibrationWrapper(\n",
    "    calibration_dct=target_calibration, \n",
    "    qubits=hw.DEVICE.qubits, \n",
    "    metric_1q=metric_1q, \n",
    "    metric_2q=metric_2q\n",
    ")\n",
    "noise_graph = calibration.noise_graph\n"
   ]
  },
  {
   "cell_type": "code",
   "execution_count": 11,
   "metadata": {},
   "outputs": [
    {
     "data": {
      "text/plain": [
       "53"
      ]
     },
     "execution_count": 11,
     "metadata": {},
     "output_type": "execute_result"
    }
   ],
   "source": [
    "len(hw.DEVICE.qubits)"
   ]
  },
  {
   "cell_type": "code",
   "execution_count": 12,
   "metadata": {},
   "outputs": [],
   "source": [
    "def T_exp(T0, alpha, steps):\n",
    "    t = np.arange(steps)\n",
    "    return T0 * alpha ** t\n",
    "\n",
    "def T_log(T0, alpha, steps):\n",
    "    t = np.arange(steps)\n",
    "    return T0 / (1 + alpha * np.log(1 + t))\n",
    "\n",
    "def T_lin(T0, steps):\n",
    "    t = np.linspace(0, 1, steps)\n",
    "    return T0 * (1 - t)\n",
    "\n",
    "def T_poly(T0, alpha, p, steps):\n",
    "    t = np.arange(steps)\n",
    "    return T0 / (1 + alpha * t ** p)\n",
    "\n",
    "# Use pre-optimized SA params\n",
    "anneal_steps = 300\n",
    "T0 = 0.07\n",
    "demo_temp = T_exp(T0, 0.987, anneal_steps)"
   ]
  },
  {
   "cell_type": "code",
   "execution_count": 13,
   "metadata": {},
   "outputs": [
    {
     "data": {
      "text/plain": [
       "<matplotlib.legend.Legend at 0x7f284acfbf70>"
      ]
     },
     "execution_count": 13,
     "metadata": {},
     "output_type": "execute_result"
    },
    {
     "data": {
      "image/png": "[encoded data removed]",
      "text/plain": [
       "<Figure size 576x360 with 1 Axes>"
      ]
     },
     "metadata": {
      "needs_background": "light"
     },
     "output_type": "display_data"
    }
   ],
   "source": [
    "T0 = 0.1\n",
    "# alpha = 0.98\n",
    "p = 1\n",
    "anneal_steps = 300\n",
    "\n",
    "# temps1 = T_exp(T0, 0.987, anneal_steps)\n",
    "# temps2 = T_log(T0, 1, anneal_steps)\n",
    "# temps3 = T_poly(T0, .02, p, anneal_steps)\n",
    "\n",
    "temps1 = T_log(0.06, 0.987, anneal_steps)\n",
    "temps2 = T_log(0.08, 0.987, anneal_steps)\n",
    "temps3 = T_log(0.10, 0.987, anneal_steps)\n",
    "\n",
    "\n",
    "fig, ax = plt.subplots(1, 1, figsize=(8, 5))\n",
    "ax.plot(range(anneal_steps), temps1, label=\"T_exp\")\n",
    "ax.plot(range(anneal_steps), temps2, label=\"T_log\")\n",
    "ax.plot(range(anneal_steps), temps3, label=\"T_poly\")\n",
    "ax.legend(loc=\"upper right\")"
   ]
  },
  {
   "cell_type": "code",
   "execution_count": 14,
   "metadata": {},
   "outputs": [
    {
     "name": "stdout",
     "output_type": "stream",
     "text": [
      "num_new_max=  1\n",
      "temps=  0\n",
      "temps=  1\n",
      "Stuck in a corner!\n",
      "temps=  2\n",
      "num_new_max=  2\n",
      "temps=  0\n",
      "Stuck in a corner!\n",
      "temps=  1\n",
      "temps=  2\n"
     ]
    }
   ],
   "source": [
    "metric_results = results\n",
    "\n",
    "trials = 20\n",
    "TRANSITION_PROBS = [0.2, 0.8] # First element is probability of reversing in place; second element is prob(trying new qubits)\n",
    "num_new_max_lst = [1, 2] # FIXME: not configured for 3 new max\n",
    "temps_lst = [temps1, temps2, temps3]\n",
    "\n",
    "all_results = [ [ None for _ in range(len(temps_lst))] for _ in range(len(num_new_max_lst))]\n",
    "all_state_counts = np.zeros((3, 3, trials))\n",
    "\n",
    "for i, num_new_max in enumerate(num_new_max_lst):\n",
    "    print(\"num_new_max= \", num_new_max)\n",
    "    for j, temp in enumerate(temps_lst):\n",
    "        print(\"temps= \", j)\n",
    "        ann_results = []\n",
    "        for ell in range(trials):\n",
    "            idx_state = np.random.choice(len(all_paths))\n",
    "            initial_state = all_paths[idx_state]\n",
    "            annealer = simulated_annealer.SimplePathFixedResultsAnnealer(\n",
    "                initial_state=initial_state,\n",
    "                paths=all_paths,\n",
    "                fidelities=metric_results[:,0],\n",
    "                graph=noise_graph,\n",
    "                num_new_max=num_new_max,\n",
    "                transition_probs=TRANSITION_PROBS,\n",
    "                verbose=False\n",
    "            )\n",
    "            res, history = annealer.anneal(nsteps=anneal_steps, temperatures=temp)\n",
    "            ann_results.append(history)\n",
    "            all_state_counts[i,j,ell] = history['unique_states_counter'][-1]\n",
    "\n",
    "        results_arr = np.zeros((trials, anneal_steps + 1))\n",
    "        for k, res in enumerate(ann_results):\n",
    "            results_arr[k,:] = res['score_history']\n",
    "        all_results[i][j] = results_arr"
   ]
  },
  {
   "cell_type": "markdown",
   "metadata": {},
   "source": [
    "Note that we cannot reject on bitflip performance and still retain a complete state space.Our solution is to just have the SA retry updating if it draws a rejected state to attempt."
   ]
  },
  {
   "cell_type": "markdown",
   "metadata": {},
   "source": [
    "### SIMULATIONS COMPLETE. DO NOT RUN.\n"
   ]
  },
  {
   "cell_type": "code",
   "execution_count": 16,
   "metadata": {},
   "outputs": [],
   "source": [
    "ntrials = 2500\n",
    "# Use pre-optimized SA params\n",
    "anneal_steps = 300\n",
    "T0 = 0.07\n",
    "demo_temp = T_exp(T0, 0.987, anneal_steps)\n",
    "\n",
    "# Run the SA over many trials and average the performance\n",
    "anneal_outcomes = np.zeros((ntrials, anneal_steps +1))\n",
    "anneal_unq_states = np.zeros(ntrials)\n"
   ]
  },
  {
   "cell_type": "code",
   "execution_count": 17,
   "metadata": {},
   "outputs": [
    {
     "name": "stdout",
     "output_type": "stream",
     "text": [
      "0\n",
      "Stuck in a corner!\n",
      "Stuck in a corner!\n",
      "50\n",
      "Stuck in a corner!\n",
      "Stuck in a corner!\n",
      "100\n",
      "Stuck in a corner!\n",
      "Stuck in a corner!\n",
      "Stuck in a corner!\n",
      "150\n",
      "Stuck in a corner!\n",
      "Stuck in a corner!\n",
      "200\n",
      "Stuck in a corner!\n",
      "250\n",
      "300\n",
      "Stuck in a corner!\n",
      "350\n",
      "Stuck in a corner!\n",
      "Stuck in a corner!\n",
      "Stuck in a corner!\n",
      "400\n",
      "450\n",
      "Stuck in a corner!\n",
      "Stuck in a corner!\n",
      "500\n",
      "Stuck in a corner!\n",
      "550\n",
      "600\n",
      "Stuck in a corner!\n",
      "Stuck in a corner!\n",
      "650\n",
      "Stuck in a corner!\n",
      "700\n",
      "Stuck in a corner!\n",
      "750\n",
      "800\n",
      "Stuck in a corner!\n",
      "850\n",
      "900\n",
      "Stuck in a corner!\n",
      "950\n",
      "Stuck in a corner!\n",
      "1000\n",
      "Stuck in a corner!\n",
      "1050\n",
      "Stuck in a corner!\n",
      "Stuck in a corner!\n",
      "Stuck in a corner!\n",
      "1100\n",
      "Stuck in a corner!\n",
      "Stuck in a corner!\n",
      "1150\n",
      "Stuck in a corner!\n",
      "Stuck in a corner!\n",
      "Stuck in a corner!\n",
      "Stuck in a corner!\n",
      "1200\n",
      "Stuck in a corner!\n",
      "Stuck in a corner!\n",
      "1250\n",
      "1300\n",
      "1350\n",
      "Stuck in a corner!\n",
      "Stuck in a corner!\n",
      "1400\n",
      "1450\n",
      "Stuck in a corner!\n",
      "Stuck in a corner!\n",
      "Stuck in a corner!\n",
      "Stuck in a corner!\n",
      "Stuck in a corner!\n",
      "Stuck in a corner!\n",
      "Stuck in a corner!\n",
      "1500\n",
      "Stuck in a corner!\n",
      "1550\n",
      "Stuck in a corner!\n",
      "1600\n",
      "Stuck in a corner!\n",
      "Stuck in a corner!\n",
      "1650\n",
      "Stuck in a corner!\n",
      "1700\n",
      "Stuck in a corner!\n",
      "1750\n",
      "1800\n",
      "1850\n",
      "1900\n",
      "Stuck in a corner!\n",
      "Stuck in a corner!\n",
      "1950\n",
      "Stuck in a corner!\n",
      "2000\n",
      "Stuck in a corner!\n",
      "Stuck in a corner!\n",
      "2050\n",
      "Stuck in a corner!\n",
      "Stuck in a corner!\n",
      "2100\n",
      "Stuck in a corner!\n",
      "Stuck in a corner!\n",
      "2150\n",
      "2200\n",
      "Stuck in a corner!\n",
      "2250\n",
      "Stuck in a corner!\n",
      "Stuck in a corner!\n",
      "2300\n",
      "Stuck in a corner!\n",
      "Stuck in a corner!\n",
      "Stuck in a corner!\n",
      "2350\n",
      "Stuck in a corner!\n",
      "2400\n",
      "2450\n"
     ]
    }
   ],
   "source": [
    "NUM_NEW_MAX = 2\n",
    "TRANSITION_PROBS = [0.2, 0.8] # First element is probability of reversing in place; second element is prob(trying new qubits)\n",
    "\n",
    "\n",
    "\n",
    "for i in range(ntrials):\n",
    "    if not (i % 50):\n",
    "        print(i)\n",
    "    # Initialize an annealer with a randomly selected start point.\n",
    "    initial_state = np.asarray(all_paths[np.random.choice(len(all_paths))])\n",
    "    annealer = simulated_annealer.SimplePathFixedResultsAnnealer(\n",
    "        initial_state=initial_state,\n",
    "        paths=all_paths,\n",
    "        fidelities=metric_results[:,0],\n",
    "        graph=noise_graph,\n",
    "        num_new_max=NUM_NEW_MAX,\n",
    "        transition_probs=TRANSITION_PROBS,\n",
    "        verbose=False\n",
    "    )\n",
    "    res, history = annealer.anneal(nsteps=anneal_steps, temperatures=demo_temp)\n",
    "\n",
    "    anneal_unq_states[i] = history['unique_states_counter'][-1]\n",
    "    anneal_outcomes[i,:] = history['score_history']"
   ]
  },
  {
   "cell_type": "markdown",
   "metadata": {},
   "source": [
    "### MC comparison to randomized schemes\n",
    "\n",
    "The samples of $n_i$ should be made only once with respect to number of unique state queries."
   ]
  },
  {
   "cell_type": "code",
   "execution_count": 18,
   "metadata": {},
   "outputs": [],
   "source": [
    "ntrials_rand = 10000"
   ]
  },
  {
   "cell_type": "code",
   "execution_count": 19,
   "metadata": {},
   "outputs": [
    {
     "name": "stdout",
     "output_type": "stream",
     "text": [
      "(45, 10000)\n"
     ]
    }
   ],
   "source": [
    "state_counts = np.unique(anneal_unq_states)\n",
    "\n",
    "# 1000 attempts per count of unq states\n",
    "found = np.zeros((len(state_counts), ntrials_rand))\n",
    "print(found.shape)\n",
    "for i, n_attempt in enumerate(state_counts):\n",
    "    for j in range(ntrials_rand):\n",
    "        idx = np.random.choice(len(all_paths), size=int(n_attempt), replace=False)\n",
    "        found[i,j] = max(FLE[idx])\n",
    "        "
   ]
  },
  {
   "cell_type": "markdown",
   "metadata": {},
   "source": [
    "Note that statistics on each n_i are normal-ish centered around $\\langle n_i \\rangle$. This means that eacn $n_i$ will have a sampling error that grows with $| n_i - \\langle n_i \\rangle|$ which will distort the uncertainty we associate with each $F_{max}(n_i)$ where $F_{max}$ is the best score found by an annealer. For instance, assuming variance is the statistic we're interested in, defining $\\text{Var}(F) = \\sigma^2$ we have some associated variance \n",
    "\n",
    "$$\n",
    "S = \\text{Var}({\\sigma^2})\n",
    "$$\n",
    "\n",
    "which apparently goes something like $\\mu_4 / n$ where $\\mu_4$ is the 4-th moment of the distribution over $F$ induced by $p(n)$. "
   ]
  },
  {
   "cell_type": "code",
   "execution_count": 20,
   "metadata": {},
   "outputs": [],
   "source": [
    "np.save(\"results/anneal_unq_states.npy\", anneal_unq_states)\n",
    "np.save(\"results/anneal_outcomes.npy\", anneal_outcomes)\n",
    "np.save(\"results/random_results.npy\", found)\n"
   ]
  },
  {
   "cell_type": "code",
   "execution_count": 21,
   "metadata": {},
   "outputs": [],
   "source": [
    "anneal_unq_states = np.load(\"results/anneal_unq_states.npy\")\n",
    "anneal_outcomes = np.load(\"results/anneal_outcomes.npy\")\n",
    "found = np.load(\"results/random_results.npy\")"
   ]
  },
  {
   "cell_type": "code",
   "execution_count": 24,
   "metadata": {},
   "outputs": [
    {
     "name": "stdout",
     "output_type": "stream",
     "text": [
      "ANNEALER IMPROVEMENT FACTOR\n",
      "1.0290302264316975\n"
     ]
    }
   ],
   "source": [
    "x0 = np.mean(baseline_perf)\n",
    "x1 = np.mean(annealer_perf)\n",
    "print(\"ANNEALER IMPROVEMENT FACTOR\")\n",
    "print(x1 / x0)"
   ]
  },
  {
   "cell_type": "markdown",
   "metadata": {},
   "source": [
    "### Make figure 5"
   ]
  },
  {
   "cell_type": "code",
   "execution_count": 26,
   "metadata": {},
   "outputs": [],
   "source": [
    "import matplotlib.colors as colors\n",
    "\n",
    "def truncate_colormap(cmap, minval=0.0, maxval=1.0, n=100):\n",
    "    \"\"\"This will truncate a colormap that assumes a [0, 1] range.\n",
    "\n",
    "    After truncation, the color that formerly corresponded to `0` will correspond\n",
    "    to `minval`, while the color that formerly corresponded to `1` will be\n",
    "    represented by `maxval`.\n",
    "    \"\"\"\n",
    "    new_cmap = colors.LinearSegmentedColormap.from_list(\n",
    "        'trunc({n},{a:.2f},{b:.2f})'.format(n=cmap.name, a=minval, b=maxval),\n",
    "        cmap(np.linspace(minval, maxval, n)))\n",
    "    return new_cmap\n"
   ]
  },
  {
   "cell_type": "code",
   "execution_count": 45,
   "metadata": {},
   "outputs": [
    {
     "name": "stdout",
     "output_type": "stream",
     "text": [
      "PROJECT ID: fermilab-quantum\n",
      "PROCESSOR:  >>> rainbow <<<\n",
      "GATESET:    <cirq_google.serializable_gate_set.SerializableGateSet object at 0x7f28654890d0>\n",
      "0.8589942168000863\n",
      "[0.881341]\n",
      "0.878059201187387\n",
      "[3.80936076]\n",
      "0.8994986801122667\n",
      "[7.10205782]\n"
     ]
    },
    {
     "name": "stderr",
     "output_type": "stream",
     "text": [
      "/tmp/ipykernel_12524/3648642828.py:126: UserWarning: This figure was using constrained_layout, but that is incompatible with subplots_adjust and/or tight_layout; disabling constrained_layout.\n",
      "  fig.subplots_adjust(right=0.85)\n"
     ]
    },
    {
     "data": {
      "image/png": "[encoded data removed]",
      "text/plain": [
       "<Figure size 1152x576 with 2 Axes>"
      ]
     },
     "metadata": {
      "needs_background": "light"
     },
     "output_type": "display_data"
    }
   ],
   "source": [
    "fig, ax = plt.subplots(1, 1, figsize=(16, 8), sharey=True, constrained_layout = True)\n",
    "\n",
    "axes = [ax]\n",
    "\n",
    "anneal_best = np.max(anneal_outcomes, axis=1)\n",
    "state_counts = np.unique(anneal_unq_states)\n",
    "\n",
    "# Define hexbin grid extent\n",
    "xmin = min(anneal_unq_states)\n",
    "xmax = max(anneal_unq_states)\n",
    "ymin = min(*anneal_best, *found.flatten())\n",
    "ymax = max(*anneal_best, *found.flatten())\n",
    "\n",
    "keeprange_x = [12, 38]\n",
    "keeprange_y = [0.85, ymax]\n",
    "ext = (keeprange_x[0], keeprange_x[1], keeprange_y[0], keeprange_y[1])\n",
    "xbins = (ext[1] - ext[0] + 1) // 2\n",
    "\n",
    "rand_counts_arr = np.tile(state_counts, ntrials_rand)\n",
    "\n",
    "\n",
    "H_anneal, xedges, yedges = np.histogram2d(anneal_unq_states, \n",
    "                                   anneal_best, \n",
    "                                   range=[keeprange_x, keeprange_y], \n",
    "                                   bins=[xbins, 12])\n",
    "H_anneal = H_anneal / H_anneal.sum(axis=1, keepdims=True)\n",
    "\n",
    "\n",
    "base_cmap = 'YlOrRd'\n",
    "cmap = truncate_colormap(plt.get_cmap(base_cmap), 0, 0.8)\n",
    "\n",
    "im = axes[0].imshow(H_anneal.T, origin='lower', cmap=cmap)\n",
    "\n",
    "\n",
    "\n",
    "# rand_counts_arr = np.tile(state_counts, ntrials_rand)\n",
    "# H_rand, xedges_rand, yedges_rand = np.histogram2d(rand_counts_arr, \n",
    "#                                    found.flatten(order='F'), \n",
    "#                                    range=[keeprange_x, keeprange_y], \n",
    "#                                    bins=[xbins, 12])\n",
    "# H_rand = H_rand / H_rand.sum(axis=1, keepdims=True)\n",
    "# axes[1].imshow(H_rand.T, origin='lower', cmap='cividis')\n",
    "\n",
    "\n",
    "xstride = 1\n",
    "for ax in axes:\n",
    "    # left-edge ticks (looks ugly.)\n",
    "    x_idx_keep = np.arange(0, len(xedges), xstride)\n",
    "    xticks = x_idx_keep - 0.5\n",
    "    ax.set_xticks(xticks)\n",
    "    ax.set_xticklabels(xedges.astype(int)[x_idx_keep])\n",
    "\n",
    "    \n",
    "\n",
    "    # Centered ticks (looks ugly?)\n",
    "#     centered_ticks = xedges + 1\n",
    "#     x_idx_keep = np.arange(1, len(xedges) - 1, xstride)\n",
    "#     ax.set_xticks(x_idx_keep )\n",
    "#     ax.set_xticklabels(centered_ticks.astype(int)[x_idx_keep])\n",
    "\n",
    "ystride = 1\n",
    "y_idx_keep = np.arange(0, len(yedges), ystride)\n",
    "axes[0].set_yticks(y_idx_keep - 0.5)\n",
    "yticklabels_fmt = np.asarray([f\"{x:2.3f}\" for x in yedges])[y_idx_keep]\n",
    "axes[0].set_yticklabels(yticklabels_fmt)\n",
    "\n",
    "\n",
    "# Overlay avg performance; need to generate statistics\n",
    "\n",
    "# For each xtick value, we will interpolate an x position\n",
    "# at which to overlay the average y-values, in imshow coords.\n",
    "# These are in arbitrary coordinates, e.g. [0, 1, 2, 3, ...] and\n",
    "# are an interpolation of arbitrary coordinates [-0.5, 0.5, 1.5, ...]\n",
    "# which are in one-to-xstride correspondence with left cell edges\n",
    "# (given as xedges[:-1])\n",
    "xticks_interpolated = xticks[:-1] + np.diff(xticks)/2\n",
    "xedges_interpolated = xedges[:-1] + np.diff(xedges)/2\n",
    "\n",
    "# This isn't clean but should work: Grab the desired yvalues\n",
    "# using xedges_interpolated as keys, but then do the \n",
    "# actual plotting with respect to xticks_interpolated\n",
    "yvals = np.zeros(len(xedges_interpolated))\n",
    "yvals_rand = np.zeros(len(xedges_interpolated))\n",
    "for i, cts in enumerate(xedges_interpolated):\n",
    "    slc = np.where(anneal_unq_states == cts)\n",
    "    yvals[i] = np.average(anneal_best[slc])\n",
    "    trial_num = np.where(state_counts == cts)\n",
    "    yvals_rand[i] = np.average(found[trial_num,:])\n",
    "# Last step is to transform yvals into the ytick coordinate\n",
    "# system in a similar way. Now we don't do discrete interpolation,\n",
    "# but instead try to transform an almost-continuous representation\n",
    "# of the ytick coordinate system.\n",
    "yticks = axes[0].get_yticks()\n",
    "yticks_interpolated = yticks[:-1] + np.diff(yticks)/2\n",
    "yedges_interpolated = yedges[:-1] + np.diff(yedges)/2\n",
    "yticklabs = yedges[y_idx_keep]\n",
    "\n",
    "def xform_yval_to_ytick_coords(yarr):\n",
    "    ytick_delta = max(yticks_interpolated) - min(yticks_interpolated)\n",
    "    yedge_delta = max(yedges_interpolated) - min(yedges_interpolated)\n",
    "    return (yarr - min(yedges_interpolated)) * ytick_delta / yedge_delta + min(yticks_interpolated)\n",
    "\n",
    "markersize = 80\n",
    "axes[0].scatter(xticks_interpolated, xform_yval_to_ytick_coords(yvals), c='maroon', marker='o', s=markersize, label=\"Simulated annealing\")\n",
    "axes[0].scatter(xticks_interpolated, xform_yval_to_ytick_coords(yvals_rand), c='black', marker='x', s=2*markersize, label=r\"best-of-$n_s$ random\")\n",
    "axes[0].legend(loc=\"upper center\", bbox_to_anchor=(0.5, 1.15), framealpha=1, ncol=2, prop={'size': 20} )\n",
    "\n",
    "for ax in axes:\n",
    "    ax.set_xlabel(r\"Unique states queried $n_s$\", size=26)\n",
    "axes[0].set_ylabel(r\"$F_{LE}(\\mathcal{C}_p)$\", size=26)\n",
    "\n",
    "# axes[0].text(-0.05, 1.08, r\"a\", horizontalalignment='center', verticalalignment='center', size=24, transform=axes[0].transAxes, weight=\"bold\")\n",
    "\n",
    "# percentile overlays\n",
    "for k in [90, 95, 99]:\n",
    "    perc = np.percentile(FLE, k)\n",
    "    print(perc)\n",
    "    zzz = xform_yval_to_ytick_coords([perc])\n",
    "    print(zzz)\n",
    "    percentile_color = 'k'\n",
    "    axes[0].axhline(zzz[0], c=percentile_color, ls='--')\n",
    "    axes[0].text(8, zzz[0] + 0.1, f\"{k}\" + r\"$^{th}$ percentile\", size=18, c=percentile_color)\n",
    "\n",
    "    \n",
    "# colorbar  \n",
    "fig.subplots_adjust(right=0.85)\n",
    "cbar_ax = fig.add_axes([0.7, 0.15, 0.02, 0.7])\n",
    "fig.colorbar(im, cax=cbar_ax, )\n",
    "cbar_ax.set_ylabel(\"density\", size=20)\n",
    "\n",
    "# DRAFT\n",
    "import os\n",
    "DRAFT = False\n",
    "if DRAFT:\n",
    "    axes[0].text(-.2,1.2, \"/annealer_ghz_line_n4_scratchwork.ipynb\", color='red', horizontalalignment='left', verticalalignment='center', size=12, transform=axes[0].transAxes, weight=\"bold\")\n",
    "fig.savefig(\"../../figures/figure5.pdf\",bbox_inches='tight')\n",
    "\n"
   ]
  }
 ],
 "metadata": {
  "kernelspec": {
   "display_name": "python3.8",
   "language": "python",
   "name": "python3.8"
  },
  "language_info": {
   "codemirror_mode": {
    "name": "ipython",
    "version": 3
   },
   "file_extension": ".py",
   "mimetype": "text/x-python",
   "name": "python",
   "nbconvert_exporter": "python",
   "pygments_lexer": "ipython3",
   "version": "3.8.0"
  }
 },
 "nbformat": 4,
 "nbformat_minor": 2
}
