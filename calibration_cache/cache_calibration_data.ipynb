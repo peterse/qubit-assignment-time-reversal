{
 "cells": [
  {
   "cell_type": "markdown",
   "metadata": {},
   "source": [
    "### Save all relevant calibration data locally anticipating Engine access shutdown"
   ]
  },
  {
   "cell_type": "code",
   "execution_count": 1,
   "metadata": {},
   "outputs": [],
   "source": [
    "import cirq\n",
    "import json\n",
    "import cirq_google as cg\n",
    "\n",
    "PROJECT_ID = 'fermilab-quantum'\n"
   ]
  },
  {
   "cell_type": "code",
   "execution_count": 2,
   "metadata": {},
   "outputs": [],
   "source": [
    "package = [\n",
    "    (\"ghz_weber\", 1624192689299, \"weber\"), #SA for GHZ4, also sample heatmap for weber\n",
    "    (\"qft_rainbow\", 1627376744797, \"rainbow\"), # SA for QFT3\n",
    "    (\"ghz_rainbow\", 1628415068308, \"rainbow\"), # diagnostics for ghz, also sample heatmap for rainbow\n",
    "    (\"swapnet_rainbow\", 1629190714052, \"rainbow\"), # diagnostics for swapnet\n",
    "    (\"clifford_conjugation_rainbow\", 1630400395629, \"rainbow\"), # diagnostics for random cliffords\n",
    "    \n",
    "]\n"
   ]
  },
  {
   "cell_type": "code",
   "execution_count": 3,
   "metadata": {},
   "outputs": [],
   "source": [
    "for (fout, timestamp, processor_id) in package:\n",
    "    ENGINE = cg.Engine(project_id=PROJECT_ID, proto_version=cg.ProtoVersion.V2)\n",
    "    PROCESSOR = ENGINE.get_processor(processor_id)\n",
    "    calibration = PROCESSOR.get_calibration(timestamp // 1000)\n",
    "    # save json serialization using cirq utility\n",
    "    fname = fout + \".json\"\n",
    "    cirq.to_json(calibration, fname)"
   ]
  },
  {
   "cell_type": "code",
   "execution_count": null,
   "metadata": {},
   "outputs": [],
   "source": []
  }
 ],
 "metadata": {
  "kernelspec": {
   "display_name": "qbitmap",
   "language": "python",
   "name": "qbitmap"
  },
  "language_info": {
   "codemirror_mode": {
    "name": "ipython",
    "version": 3
   },
   "file_extension": ".py",
   "mimetype": "text/x-python",
   "name": "python",
   "nbconvert_exporter": "python",
   "pygments_lexer": "ipython3",
   "version": "3.6.9"
  }
 },
 "nbformat": 4,
 "nbformat_minor": 2
}
